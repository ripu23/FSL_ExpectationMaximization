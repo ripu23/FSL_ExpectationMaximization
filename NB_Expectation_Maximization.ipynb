{
 "cells": [
  {
   "cell_type": "code",
   "execution_count": 2,
   "metadata": {},
   "outputs": [],
   "source": [
    "import sklearn.datasets as skd\n",
    "from sklearn.feature_extraction.text import CountVectorizer\n",
    "import numpy as np\n",
    "from sklearn.feature_extraction.text import TfidfTransformer\n",
    "from sklearn.naive_bayes import MultinomialNB\n",
    "from sklearn.metrics import classification_report\n",
    "from sklearn.metrics import accuracy_score\n",
    "from sklearn.metrics import confusion_matrix\n",
    "from sklearn.model_selection import train_test_split, StratifiedShuffleSplit\n",
    "from scipy.sparse import vstack\n",
    "import matplotlib.pyplot as plt"
   ]
  },
  {
   "cell_type": "code",
   "execution_count": 4,
   "metadata": {},
   "outputs": [],
   "source": [
    "train_data = skd.load_files('datasets/20news-bydate/20news-bydate-train', encoding='ISO-8859-1')\n",
    "\n",
    "test_data = skd.load_files('datasets/20news-bydate/20news-bydate-test', encoding='ISO-8859-1')"
   ]
  },
  {
   "cell_type": "code",
   "execution_count": 37,
   "metadata": {},
   "outputs": [],
   "source": [
    "# count vectorization\n",
    "count_vk = CountVectorizer()\n",
    "X_train_tf = count_vk.fit_transform(train_data.data)\n",
    "X_test_tf = count_vk.transform(test_data.data)"
   ]
  },
  {
   "cell_type": "code",
   "execution_count": 38,
   "metadata": {},
   "outputs": [
    {
     "name": "stdout",
     "output_type": "stream",
     "text": [
      "Shape of X_train_tfidf (11314, 130107)\n"
     ]
    }
   ],
   "source": [
    "tf = TfidfTransformer()\n",
    "X_train_tfidf = tf.fit_transform(X_train_tf)\n",
    "print('Shape of X_train_tfidf', X_train_tfidf.shape)"
   ]
  },
  {
   "cell_type": "code",
   "execution_count": 39,
   "metadata": {},
   "outputs": [
    {
     "name": "stdout",
     "output_type": "stream",
     "text": [
      "(1131, 130107) (10183, 130107)\n"
     ]
    },
    {
     "name": "stderr",
     "output_type": "stream",
     "text": [
      "/anaconda3/lib/python3.7/site-packages/sklearn/model_selection/_split.py:2179: FutureWarning: From version 0.21, test_size will always complement train_size unless both are specified.\n",
      "  FutureWarning)\n"
     ]
    }
   ],
   "source": [
    "split_ratio = 0.1 # labeled vs unlabeled\n",
    "X_l, X_u, y_l, y_u = train_test_split(X_train_tfidf, train_data.target, train_size=split_ratio, stratify=train_data.target)\n",
    "print(X_l.shape, X_u.shape)"
   ]
  },
  {
   "cell_type": "code",
   "execution_count": 40,
   "metadata": {},
   "outputs": [],
   "source": [
    "def semiSupFit(X_l, y_l, X_u):\n",
    "    n_ul_docs = X_u.shape[0] # number of unlabeled samples\n",
    "    n_l_docs = X_l.shape[0] # number of labeled samples\n",
    "    alpha = 1e-2\n",
    "    clf = MultinomialNB(alpha=alpha)\n",
    "    clf.fit(X_l, y_l) # use labeled data only to initialize classifier parameters\n",
    "\n",
    "    theta_wt_cj = clf.feature_log_prob_ # log CP of word given class [n_classes, n_words]\n",
    "    theta_cj = clf.class_log_prior_\n",
    "    prev_theta_wt_cj = np.zeros(theta_wt_cj.shape) - np.inf # log CP of word given class [n_classes, n_words]\n",
    "    prev_theta_cj = np.zeros(theta_cj.shape) - np.inf\n",
    "    diff_wt_cj = np.sum(theta_wt_cj-prev_theta_wt_cj)\n",
    "    diff_cj = np.sum(theta_cj-prev_theta_cj)\n",
    "    totalDiff = diff_wt_cj+diff_cj\n",
    "    print(\"diff_wt_cj:\",diff_wt_cj,\"diff_cj:\",diff_cj,'totalDiff:',totalDiff)\n",
    "\n",
    "    iter_count = 0 # count EM iteration\n",
    "    max_iter=30\n",
    "    while (totalDiff!=0 and iter_count<max_iter):\n",
    "        iter_count += 1\n",
    "        print(\"EM iteration #%d\" % iter_count) # debug\n",
    "        # E-step: Estimate class membership of unlabeled documents\n",
    "        y_u = clf.predict(X_u)\n",
    "        # M-step: Re-estimate classifier parameters\n",
    "        X = vstack([X_l, X_u])\n",
    "        y = np.concatenate((y_l, y_u), axis=0)\n",
    "        clf.fit(X, y)\n",
    "        \n",
    "        theta_wt_cj = clf.feature_log_prob_ # log CP of word given class [n_classes, n_words]\n",
    "        theta_cj = clf.class_log_prior_\n",
    "\n",
    "        diff_wt_cj = np.sum(theta_wt_cj-prev_theta_wt_cj)\n",
    "        diff_cj = np.sum(theta_cj-prev_theta_cj)\n",
    "        totalDiff = diff_wt_cj+diff_cj\n",
    "        print(\"diff_wt_cj:\",diff_wt_cj,\"diff_cj:\",diff_cj,'totalDiff:',totalDiff)\n",
    "        prev_theta_wt_cj = theta_wt_cj\n",
    "        prev_theta_cj = theta_cj\n",
    "\n",
    "    return clf"
   ]
  },
  {
   "cell_type": "code",
   "execution_count": 41,
   "metadata": {},
   "outputs": [
    {
     "name": "stdout",
     "output_type": "stream",
     "text": [
      "MultinomialNB Accuracy is 64.379 %\n",
      "diff_wt_cj: inf diff_cj: inf totalDiff: inf\n",
      "EM iteration #1\n",
      "diff_wt_cj: inf diff_cj: inf totalDiff: inf\n",
      "EM iteration #2\n",
      "diff_wt_cj: -5502.317227407562 diff_cj: 0.0027905725825307925 totalDiff: -5502.3144368349795\n",
      "EM iteration #3\n",
      "diff_wt_cj: -759.1325222998217 diff_cj: -0.00031338782635259577 totalDiff: -759.1328356876481\n",
      "EM iteration #4\n",
      "diff_wt_cj: -185.39398829063575 diff_cj: 0.0003952246612808352 totalDiff: -185.39359306597447\n",
      "EM iteration #5\n",
      "diff_wt_cj: -54.31091127967875 diff_cj: -9.624071395908373e-05 totalDiff: -54.31100752039271\n",
      "EM iteration #6\n",
      "diff_wt_cj: -27.383903705523263 diff_cj: 7.80648300260367e-05 totalDiff: -27.38382564069324\n",
      "EM iteration #7\n",
      "diff_wt_cj: -31.154129910199366 diff_cj: 7.425113450487686e-05 totalDiff: -31.15405565906486\n",
      "EM iteration #8\n",
      "diff_wt_cj: -28.827023827057236 diff_cj: 7.043828799879748e-05 totalDiff: -28.826953388769237\n",
      "EM iteration #9\n",
      "diff_wt_cj: -139.02206767712693 diff_cj: 0.0009626782292979641 totalDiff: -139.02110499889764\n",
      "EM iteration #10\n",
      "diff_wt_cj: 0.0 diff_cj: 0.0 totalDiff: 0.0\n",
      "EM algo Accuracy is 72.013 %\n"
     ]
    }
   ],
   "source": [
    "# Train Naive Bayes classifier (imported) \n",
    "# using labeled data set only\n",
    "cv_clf = MultinomialNB(alpha=1e-2)\n",
    "cv_clf.fit(X_l, y_l)\n",
    "predicted = cv_clf.predict(X_test_tf)\n",
    "accuracy = accuracy_score(test_data.target, predicted) * 100\n",
    "print(\"MultinomialNB Accuracy is {0:0.3f} %\".format(accuracy))\n",
    "\n",
    "# Training based on EM algorithm \n",
    "# using labeled data set only\n",
    "cv_clf = semiSupFit(X_l, y_l, X_u)\n",
    "predicted = cv_clf.predict(X_test_tf)\n",
    "accuracy = accuracy_score(test_data.target, predicted) * 100\n",
    "print(\"EM algo Accuracy is {0:0.3f} %\".format(accuracy))"
   ]
  },
  {
   "cell_type": "code",
   "execution_count": 43,
   "metadata": {},
   "outputs": [
    {
     "name": "stderr",
     "output_type": "stream",
     "text": [
      "/anaconda3/lib/python3.7/site-packages/sklearn/model_selection/_split.py:2179: FutureWarning: From version 0.21, test_size will always complement train_size unless both are specified.\n",
      "  FutureWarning)\n"
     ]
    },
    {
     "name": "stdout",
     "output_type": "stream",
     "text": [
      "MultinomialNB Accuracy is 26.009 %\n",
      "diff_wt_cj: inf diff_cj: inf totalDiff: inf\n",
      "EM iteration #1\n",
      "diff_wt_cj: inf diff_cj: inf totalDiff: inf\n",
      "EM iteration #2\n",
      "diff_wt_cj: -53002.41165508014 diff_cj: 0.1896965734369358 totalDiff: -53002.22195850671\n",
      "EM iteration #3\n",
      "diff_wt_cj: -15987.391443257558 diff_cj: -0.09124233045576613 totalDiff: -15987.482685588015\n",
      "EM iteration #4\n",
      "diff_wt_cj: -8522.995841928385 diff_cj: -0.07113640023762269 totalDiff: -8523.066978328623\n",
      "EM iteration #5\n",
      "diff_wt_cj: -4824.277384807567 diff_cj: 0.013643223621227385 totalDiff: -4824.263741583945\n",
      "EM iteration #6\n",
      "diff_wt_cj: -2029.2881533190136 diff_cj: 0.0017277166924190013 totalDiff: -2029.2864256023213\n",
      "EM iteration #7\n",
      "diff_wt_cj: -820.5550000082848 diff_cj: -0.012603766762779856 totalDiff: -820.5676037750476\n",
      "EM iteration #8\n",
      "diff_wt_cj: -1732.223359502712 diff_cj: 0.007181317200458892 totalDiff: -1732.2161781855114\n",
      "EM iteration #9\n",
      "diff_wt_cj: 265.5756504378295 diff_cj: -0.020160572044077618 totalDiff: 265.55548986578543\n",
      "EM iteration #10\n",
      "diff_wt_cj: 2202.2449623773437 diff_cj: -0.04691473810964286 totalDiff: 2202.198047639234\n",
      "EM iteration #11\n",
      "diff_wt_cj: 2172.094997676147 diff_cj: -0.04910547535113707 totalDiff: 2172.045892200796\n",
      "EM iteration #12\n",
      "diff_wt_cj: 1331.6626391934587 diff_cj: -0.03469603016833478 totalDiff: 1331.6279431632904\n",
      "EM iteration #13\n",
      "diff_wt_cj: 415.3174699420252 diff_cj: -0.01320123607068524 totalDiff: 415.3042687059545\n",
      "EM iteration #14\n",
      "diff_wt_cj: 2425.1929743207925 diff_cj: -0.04950593075844534 totalDiff: 2425.143468390034\n",
      "EM iteration #15\n",
      "diff_wt_cj: 1004.0277401989766 diff_cj: -0.02061557999091157 totalDiff: 1004.0071246189857\n",
      "EM iteration #16\n",
      "diff_wt_cj: 100.48319303699955 diff_cj: -0.0015437280226944239 totalDiff: 100.48164930897686\n",
      "EM iteration #17\n",
      "diff_wt_cj: 92.82497585569728 diff_cj: -0.0015491517283647838 totalDiff: 92.8234267039689\n",
      "EM iteration #18\n",
      "diff_wt_cj: 75.06242193790058 diff_cj: -0.0015545969727597253 totalDiff: 75.06086734092781\n",
      "EM iteration #19\n",
      "diff_wt_cj: 0.0 diff_cj: 0.0 totalDiff: 0.0\n",
      "EM algo Accuracy is 42.645 %\n"
     ]
    },
    {
     "name": "stderr",
     "output_type": "stream",
     "text": [
      "/anaconda3/lib/python3.7/site-packages/sklearn/model_selection/_split.py:2179: FutureWarning: From version 0.21, test_size will always complement train_size unless both are specified.\n",
      "  FutureWarning)\n"
     ]
    },
    {
     "name": "stdout",
     "output_type": "stream",
     "text": [
      "MultinomialNB Accuracy is 33.510 %\n",
      "diff_wt_cj: inf diff_cj: inf totalDiff: inf\n",
      "EM iteration #1\n",
      "diff_wt_cj: inf diff_cj: inf totalDiff: inf\n",
      "EM iteration #2\n",
      "diff_wt_cj: -33532.86655146251 diff_cj: -0.1759845901494339 totalDiff: -33533.04253605266\n",
      "EM iteration #3\n",
      "diff_wt_cj: -10026.307925217274 diff_cj: -0.07742570440889818 totalDiff: -10026.385350921682\n",
      "EM iteration #4\n",
      "diff_wt_cj: -3492.524802048602 diff_cj: -0.0382998554577636 totalDiff: -3492.5631019040597\n",
      "EM iteration #5\n",
      "diff_wt_cj: -1705.6066692645463 diff_cj: -0.0556483431772401 totalDiff: -1705.6623176077235\n",
      "EM iteration #6\n",
      "diff_wt_cj: -517.7957506846097 diff_cj: -0.062385934031115475 totalDiff: -517.8581366186409\n",
      "EM iteration #7\n",
      "diff_wt_cj: -946.8529456781135 diff_cj: 0.007205321759983008 totalDiff: -946.8457403563535\n",
      "EM iteration #8\n",
      "diff_wt_cj: -1832.5627014059446 diff_cj: 0.015788151332994715 totalDiff: -1832.5469132546116\n",
      "EM iteration #9\n",
      "diff_wt_cj: -595.1667655260512 diff_cj: 0.005238476587664742 totalDiff: -595.1615270494635\n",
      "EM iteration #10\n",
      "diff_wt_cj: -338.12164033168284 diff_cj: 0.0025841251866243198 totalDiff: -338.1190562064962\n",
      "EM iteration #11\n",
      "diff_wt_cj: -352.4575653527241 diff_cj: 0.002914061594877282 totalDiff: -352.4546512911292\n",
      "EM iteration #12\n",
      "diff_wt_cj: 0.0 diff_cj: 0.0 totalDiff: 0.0\n",
      "EM algo Accuracy is 52.682 %\n",
      "MultinomialNB Accuracy is 46.256 %\n",
      "diff_wt_cj: inf diff_cj: inf totalDiff: inf\n",
      "EM iteration #1\n"
     ]
    },
    {
     "name": "stderr",
     "output_type": "stream",
     "text": [
      "/anaconda3/lib/python3.7/site-packages/sklearn/model_selection/_split.py:2179: FutureWarning: From version 0.21, test_size will always complement train_size unless both are specified.\n",
      "  FutureWarning)\n"
     ]
    },
    {
     "name": "stdout",
     "output_type": "stream",
     "text": [
      "diff_wt_cj: inf diff_cj: inf totalDiff: inf\n",
      "EM iteration #2\n",
      "diff_wt_cj: -22827.82561607779 diff_cj: 0.129307561903647 totalDiff: -22827.696308515886\n",
      "EM iteration #3\n",
      "diff_wt_cj: -5016.979984344413 diff_cj: 0.031896161938031575 totalDiff: -5016.948088182476\n",
      "EM iteration #4\n",
      "diff_wt_cj: -1555.8994517671122 diff_cj: 0.00841202991310741 totalDiff: -1555.891039737199\n",
      "EM iteration #5\n",
      "diff_wt_cj: -1394.6030016025938 diff_cj: 0.012103446623866532 totalDiff: -1394.59089815597\n",
      "EM iteration #6\n",
      "diff_wt_cj: -457.6349149313674 diff_cj: 0.0036132963275203878 totalDiff: -457.6313016350399\n",
      "EM iteration #7\n",
      "diff_wt_cj: -193.87280099642769 diff_cj: 0.0019178253658047595 totalDiff: -193.87088317106188\n",
      "EM iteration #8\n",
      "diff_wt_cj: 0.0 diff_cj: 0.0 totalDiff: 0.0\n",
      "EM algo Accuracy is 61.816 %\n"
     ]
    },
    {
     "name": "stderr",
     "output_type": "stream",
     "text": [
      "/anaconda3/lib/python3.7/site-packages/sklearn/model_selection/_split.py:2179: FutureWarning: From version 0.21, test_size will always complement train_size unless both are specified.\n",
      "  FutureWarning)\n"
     ]
    },
    {
     "name": "stdout",
     "output_type": "stream",
     "text": [
      "MultinomialNB Accuracy is 61.498 %\n",
      "diff_wt_cj: inf diff_cj: inf totalDiff: inf\n",
      "EM iteration #1\n",
      "diff_wt_cj: inf diff_cj: inf totalDiff: inf\n",
      "EM iteration #2\n",
      "diff_wt_cj: -5836.514586011431 diff_cj: -0.01719762151538795 totalDiff: -5836.531783632946\n",
      "EM iteration #3\n",
      "diff_wt_cj: -769.6135858584519 diff_cj: -0.00233860167310862 totalDiff: -769.615924460125\n",
      "EM iteration #4\n",
      "diff_wt_cj: -439.237848388344 diff_cj: 0.002549042115271405 totalDiff: -439.2352993462287\n",
      "EM iteration #5\n",
      "diff_wt_cj: 0.0 diff_cj: 0.0 totalDiff: 0.0\n",
      "EM algo Accuracy is 70.273 %\n",
      "MultinomialNB Accuracy is 70.512 %\n",
      "diff_wt_cj: inf diff_cj: inf totalDiff: inf\n",
      "EM iteration #1\n"
     ]
    },
    {
     "name": "stderr",
     "output_type": "stream",
     "text": [
      "/anaconda3/lib/python3.7/site-packages/sklearn/model_selection/_split.py:2179: FutureWarning: From version 0.21, test_size will always complement train_size unless both are specified.\n",
      "  FutureWarning)\n"
     ]
    },
    {
     "name": "stdout",
     "output_type": "stream",
     "text": [
      "diff_wt_cj: inf diff_cj: inf totalDiff: inf\n",
      "EM iteration #2\n",
      "diff_wt_cj: -2480.1733808625904 diff_cj: -0.00040570308104559416 totalDiff: -2480.1737865656714\n",
      "EM iteration #3\n",
      "diff_wt_cj: 194.4361027754329 diff_cj: -0.004937640155284306 totalDiff: 194.4311651352776\n",
      "EM iteration #4\n",
      "diff_wt_cj: 154.04333472903028 diff_cj: -0.002394617386370257 totalDiff: 154.04094011164392\n",
      "EM iteration #5\n",
      "diff_wt_cj: 0.0 diff_cj: 0.0 totalDiff: 0.0\n",
      "EM algo Accuracy is 75.544 %\n"
     ]
    },
    {
     "name": "stderr",
     "output_type": "stream",
     "text": [
      "/anaconda3/lib/python3.7/site-packages/sklearn/model_selection/_split.py:2179: FutureWarning: From version 0.21, test_size will always complement train_size unless both are specified.\n",
      "  FutureWarning)\n"
     ]
    },
    {
     "name": "stdout",
     "output_type": "stream",
     "text": [
      "MultinomialNB Accuracy is 74.774 %\n",
      "diff_wt_cj: inf diff_cj: inf totalDiff: inf\n",
      "EM iteration #1\n",
      "diff_wt_cj: inf diff_cj: inf totalDiff: inf\n",
      "EM iteration #2\n",
      "diff_wt_cj: -888.3467721833256 diff_cj: 0.004522257293924525 totalDiff: -888.3422499260316\n",
      "EM iteration #3\n",
      "diff_wt_cj: -28.021149420133206 diff_cj: 2.5168946554465776e-05 totalDiff: -28.021124251186652\n",
      "EM iteration #4\n",
      "diff_wt_cj: 0.0 diff_cj: 0.0 totalDiff: 0.0\n",
      "EM algo Accuracy is 78.200 %\n",
      "MultinomialNB Accuracy is 80.589 %\n",
      "diff_wt_cj: inf diff_cj: inf totalDiff: inf\n",
      "EM iteration #1\n"
     ]
    },
    {
     "name": "stderr",
     "output_type": "stream",
     "text": [
      "/anaconda3/lib/python3.7/site-packages/sklearn/model_selection/_split.py:2179: FutureWarning: From version 0.21, test_size will always complement train_size unless both are specified.\n",
      "  FutureWarning)\n"
     ]
    },
    {
     "name": "stdout",
     "output_type": "stream",
     "text": [
      "diff_wt_cj: inf diff_cj: inf totalDiff: inf\n",
      "EM iteration #2\n",
      "diff_wt_cj: -65.26325575546298 diff_cj: 8.364755171896832e-05 totalDiff: -65.26317210791126\n",
      "EM iteration #3\n",
      "diff_wt_cj: 0.0 diff_cj: 0.0 totalDiff: 0.0\n",
      "EM algo Accuracy is 81.373 %\n",
      "NBaccuracy: [26.009028146574614, 33.51035581518853, 46.25597450876261, 61.49761019649495, 70.5124800849708, 74.77429633563463, 80.5894848645778]\n",
      "EMaccuracy: [42.64471587891662, 52.681890600106215, 61.8162506638343, 70.27349973446628, 75.54434413170472, 78.19968135953266, 81.37280934678705]\n"
     ]
    }
   ],
   "source": [
    "splitRatios = [0.01,0.02,0.04,0.08,0.16,0.32,0.64]\n",
    "iterations = []\n",
    "iterations = []\n",
    "NBaccuracy = []\n",
    "EMaccuracy = []\n",
    "\n",
    "for iteration, split_ratio in enumerate(splitRatios):\n",
    "    iterations.append(iteration+1)\n",
    "    \n",
    "    #split_ratio = 0.1 # labeled vs unlabeled\n",
    "    X_l, X_u, y_l, y_u = train_test_split(X_train_tfidf, train_data.target, train_size=split_ratio, stratify=train_data.target)\n",
    "    # Train Naive Bayes classifier (imported) \n",
    "    # using labeled data set only\n",
    "    cv_clf = MultinomialNB(alpha=1e-2)\n",
    "    cv_clf.fit(X_l, y_l)\n",
    "    predicted = cv_clf.predict(X_test_tf)\n",
    "    accuracy = accuracy_score(test_data.target, predicted) * 100\n",
    "    print(\"MultinomialNB Accuracy is {0:0.3f} %\".format(accuracy))\n",
    "    NBaccuracy.append(accuracy)\n",
    "\n",
    "    # Training based on EM algorithm \n",
    "    # using labeled data set only\n",
    "    cv_clf = semiSupFit(X_l, y_l, X_u)\n",
    "    predicted = cv_clf.predict(X_test_tf)\n",
    "    accuracy = accuracy_score(test_data.target, predicted) * 100\n",
    "    print(\"EM algo Accuracy is {0:0.3f} %\".format(accuracy))\n",
    "    EMaccuracy.append(accuracy)\n",
    "    \n",
    "    \n",
    "print('NBaccuracy:',NBaccuracy)\n",
    "print('EMaccuracy:',EMaccuracy)"
   ]
  },
  {
   "cell_type": "code",
   "execution_count": 74,
   "metadata": {},
   "outputs": [
    {
     "name": "stdout",
     "output_type": "stream",
     "text": [
      "NBaccuracy: [26.009028146574614, 33.51035581518853, 46.25597450876261, 61.49761019649495, 70.5124800849708, 74.77429633563463, 80.5894848645778]\n",
      "EMaccuracy: [42.64471587891662, 52.681890600106215, 61.8162506638343, 70.27349973446628, 75.54434413170472, 78.19968135953266, 81.37280934678705]\n",
      "iterations: [1, 2, 3, 4, 5, 6, 7]\n",
      "splitRatios: [0.01, 0.02, 0.04, 0.08, 0.16, 0.32, 0.64]\n"
     ]
    },
    {
     "data": {
      "image/png": "[encoded data removed]",
      "text/plain": [
       "<Figure size 432x288 with 1 Axes>"
      ]
     },
     "metadata": {
      "needs_background": "light"
     },
     "output_type": "display_data"
    }
   ],
   "source": [
    "print('NBaccuracy:',NBaccuracy)\n",
    "print('EMaccuracy:',EMaccuracy)\n",
    "print('iterations:',iterations)\n",
    "print('splitRatios:',splitRatios)\n",
    "#plt.plot(x, x, label='linear')\n",
    "#plt.plot(x, x**2, label='quadratic')\n",
    "#plt.plot(x, x**3, label='cubic')\n",
    "#splitRatios\n",
    "plt.ylim(0, 100)\n",
    "plt.plot(splitRatios, NBaccuracy, label='NBaccuracy',marker='x')\n",
    "plt.plot(splitRatios, EMaccuracy, label='EMaccuracy',marker='x')\n",
    "\n",
    "#ax.set_yticklabels(y_labels)\n",
    "#plt.plot( 'x', 'y1', data=NBaccuracy, marker='o', markerfacecolor='blue', markersize=12, color='skyblue', linewidth=4)\n",
    "plt.xlabel('Interations')\n",
    "plt.ylabel('Accuracy')\n",
    "ax = plt.gca()\n",
    "ax.set_xscale('log')\n",
    "#ax.set_xtick(np.log(splitRatios))\n",
    "ax.set_xticklabels(splitRatios)\n",
    "plt.show()"
   ]
  },
  {
   "cell_type": "code",
   "execution_count": null,
   "metadata": {},
   "outputs": [],
   "source": []
  },
  {
   "cell_type": "code",
   "execution_count": null,
   "metadata": {},
   "outputs": [],
   "source": []
  }
 ],
 "metadata": {
  "kernelspec": {
   "display_name": "Python 3",
   "language": "python",
   "name": "python3"
  },
  "language_info": {
   "codemirror_mode": {
    "name": "ipython",
    "version": 3
   },
   "file_extension": ".py",
   "mimetype": "text/x-python",
   "name": "python",
   "nbconvert_exporter": "python",
   "pygments_lexer": "ipython3",
   "version": "3.7.3"
  }
 },
 "nbformat": 4,
 "nbformat_minor": 2
}
