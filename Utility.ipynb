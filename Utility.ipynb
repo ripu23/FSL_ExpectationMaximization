{
 "cells": [
  {
   "cell_type": "code",
   "execution_count": 1,
   "metadata": {},
   "outputs": [],
   "source": [
    "import collections\n",
    "from nltk.corpus import reuters\n",
    "def get_sorted_categories_with_counts():\n",
    "    cat_dic = {}\n",
    "    categories = reuters.categories()\n",
    "    for cat in categories:\n",
    "        files = reuters.fileids(cat)\n",
    "        train_files = list(filter(lambda doc: doc.startswith(\"train\"), files))\n",
    "        cat_dic[cat] = len(train_files)\n",
    "    return collections.OrderedDict(sorted(cat_dic.items(), key=lambda x: x[1], reverse=True))"
   ]
  },
  {
   "cell_type": "code",
   "execution_count": null,
   "metadata": {},
   "outputs": [],
   "source": []
  }
 ],
 "metadata": {
  "kernelspec": {
   "display_name": "Python 3",
   "language": "python",
   "name": "python3"
  },
  "language_info": {
   "codemirror_mode": {
    "name": "ipython",
    "version": 3
   },
   "file_extension": ".py",
   "mimetype": "text/x-python",
   "name": "python",
   "nbconvert_exporter": "python",
   "pygments_lexer": "ipython3",
   "version": "3.7.3"
  }
 },
 "nbformat": 4,
 "nbformat_minor": 2
}
