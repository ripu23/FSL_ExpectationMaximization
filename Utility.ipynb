{
 "cells": [
  {
   "cell_type": "code",
   "execution_count": 1,
   "metadata": {},
   "outputs": [],
   "source": [
    "import collections\n",
    "from nltk.corpus import reuters\n",
    "def get_sorted_categories_with_counts():\n",
    "    cat_dic = {}\n",
    "    categories = reuters.categories()\n",
    "    for cat in categories:\n",
    "        files = reuters.fileids(cat)\n",
    "        train_files = list(filter(lambda doc: doc.startswith(\"train\"), files))\n",
    "        cat_dic[cat] = len(train_files)\n",
    "    return collections.OrderedDict(sorted(cat_dic.items(), key=lambda x: x[1], reverse=True))"
   ]
  },
  {
   "cell_type": "code",
   "execution_count": 11,
   "metadata": {},
   "outputs": [],
   "source": [
    "def get_label_file_mapping():\n",
    "    documents = reuters.fileids()\n",
    "    mapping = {}\n",
    "    train_docs_id = list(filter(lambda doc: doc.startswith(\"train\"), documents))\n",
    "    for t_id in train_docs_id:\n",
    "        cats = reuters.categories(t_id)\n",
    "        for cat in cats:\n",
    "            if cat in mapping:\n",
    "                mapping[cat].append(t_id)\n",
    "            else:\n",
    "                mapping[cat] = []\n",
    "                mapping[cat].append(t_id)\n",
    "    return mapping"
   ]
  },
  {
   "cell_type": "code",
   "execution_count": 19,
   "metadata": {},
   "outputs": [
    {
     "name": "stdout",
     "output_type": "stream",
     "text": [
      "['training/10258', 'training/10322', 'training/10324', 'training/10593', 'training/10709', 'training/11124', 'training/11273', 'training/11371', 'training/11767', 'training/12484', 'training/1263', 'training/12836', 'training/1300', 'training/1332', 'training/13507', 'training/1832', 'training/272', 'training/377', 'training/3957', 'training/4697', 'training/5149', 'training/5243', 'training/5868', 'training/6189', 'training/6546', 'training/7263', 'training/7574', 'training/7577', 'training/7602', 'training/8873', 'training/921', 'training/9326', 'training/938', 'training/9738', 'training/9892']\n"
     ]
    }
   ],
   "source": [
    "mapping = get_label_file_mapping()\n",
    "print(mapping['alum'])"
   ]
  },
  {
   "cell_type": "code",
   "execution_count": null,
   "metadata": {},
   "outputs": [],
   "source": []
  }
 ],
 "metadata": {
  "kernelspec": {
   "display_name": "Python 3",
   "language": "python",
   "name": "python3"
  },
  "language_info": {
   "codemirror_mode": {
    "name": "ipython",
    "version": 3
   },
   "file_extension": ".py",
   "mimetype": "text/x-python",
   "name": "python",
   "nbconvert_exporter": "python",
   "pygments_lexer": "ipython3",
   "version": "3.7.3"
  }
 },
 "nbformat": 4,
 "nbformat_minor": 2
}
